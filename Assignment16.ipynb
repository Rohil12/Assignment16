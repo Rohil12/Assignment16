{
 "cells": [
  {
   "cell_type": "code",
   "execution_count": 2,
   "id": "fdda6cfd-d753-413c-be96-085fae0f6508",
   "metadata": {},
   "outputs": [],
   "source": [
    "#Q.1 \n",
    "# Database an organized collection of data stored electronically on a computer system\n",
    "# Designed for efficient data storage, retrieval, management and analysis\n",
    "# Used in various applications, including banking , E-commerce,social media, inventory management \n",
    "\n",
    "# SQL (structured query language) Database \n",
    "# Structure data organized in tables with rows and columns\n",
    "# predefined structured that ensures consistency and data integrity \n",
    "# Query language use AQL for data retrieval, manipulation and administration\n",
    "# Eample MySQL\n",
    "\n",
    "# No SQL (Not only SQL) Databases\n",
    "# Structure more flexible data models including:\n",
    "# key value pairs, document oriented, graph databases, cloumn oriented\n",
    "# schema dynamic or schema less, allowing for unstructured or semi structured data\n",
    "# Query language: varying query languages or methods depending on the type of NoSQL database"
   ]
  },
  {
   "cell_type": "code",
   "execution_count": 5,
   "id": "3158235a-0fbd-4600-a8f6-e9453343db5e",
   "metadata": {},
   "outputs": [],
   "source": [
    "#Q.2\n",
    "# DDL(Data definition language) is a subset of SQL commands used to \n",
    "# create, modify , and delete the structure of database objects. It's\n",
    "# essential for defining the blueprint of the daatabase and managing its schema\n",
    "\n",
    "# Create \n",
    "# Purpose:To create new database objects.\n",
    "# Example CREATE TABLE Customers (CustomerID int , Name varchar(50). Address varchar(255));\n",
    "# creates a new table named \" Customers\" with three columns\n",
    "\n",
    "# Drop\n",
    "# Purpose: To delete entire database objects\n",
    "# Example : DROP TABLE Customers;\n",
    "# Delete the table\" Customers\" permanently along with all its data\n",
    "\n",
    "# Alter\n",
    "# purpose: To modify the structure of existing database objects\n",
    "# Examples: ALTER TABLE Customers ADD Email varchar(255);\n",
    "# Adds a new column named \"Emaol\" to the \" Customers\" table\n",
    "# Example: ALTER TABLE Customers DROP COLUMN Address;\n",
    "# Removes the address column from the customer table\n",
    "\n",
    "# Truncate\n",
    "# Purpose: To delete all data from a table quickly, but not the table itself\n",
    "# Example TRUNCATE TABLE Orders;\n",
    "# Deletes all rows from the \"orders\" table, leaving it empty"
   ]
  },
  {
   "cell_type": "code",
   "execution_count": 6,
   "id": "3f6aca58-79be-41ce-8e5a-57b5247905de",
   "metadata": {},
   "outputs": [],
   "source": [
    "#Q.3\n",
    "# DML (Data Manipulation language) is a subset of SQL commands used to \n",
    "# manipulate data within database tables.\n",
    "\n",
    "# INSERT\n",
    "# Purpose: To add new rows(records) to a table\n",
    "# Example: INSERT INTO Customers(CustomerID, Name , Address)\n",
    "# VALUES (1001, 'john doe','123 Main St'):\n",
    "\n",
    "# UPDATE\n",
    "# Purpose: To modify existing data within rows of a table,\n",
    "# Example: UPDATE Customers SET Adress = ' 456 Elm St' WHERE CustomerID = 1001;\n",
    "\n",
    "# DELETE\n",
    "# Purpose: To remove rows(records) from a table \n",
    "# Example: DELETE FROM Orders WHERE OrderID = 555;"
   ]
  },
  {
   "cell_type": "code",
   "execution_count": 1,
   "id": "ea101441-3064-4606-be46-5cea97afa7b1",
   "metadata": {},
   "outputs": [],
   "source": [
    "#Q.4 \n",
    "# DQL (Data Query Language) is a subset of SQL commands used to retrieve\n",
    "# and manipulate data from a database.\n",
    "\n",
    "# SELECT\n",
    "# Purpose: To retrieve data from one or more tables based on specified criteria\n",
    "# Example\n",
    "# SELECT Name,City\n",
    "# FROM Customers\n",
    "# WHERE Country = 'USA';\n"
   ]
  },
  {
   "cell_type": "code",
   "execution_count": 2,
   "id": "7a1ab83e-3db2-43af-b651-aab85e1f48e7",
   "metadata": {},
   "outputs": [],
   "source": [
    "#Q.5\n",
    "# Primary key \n",
    "# Unique identifier: A column within a table that uniquely identifies each row\n",
    "# Database ensures no two rows can have the same value for primary key \n",
    "\n",
    "# Foreign key \n",
    "# Links tables: A column in one table that references the primary key of another table\n",
    "# Establishes connections between related data in different tables "
   ]
  },
  {
   "cell_type": "code",
   "execution_count": 4,
   "id": "b3cbcd68-9171-4672-b4cc-30a52894a7f4",
   "metadata": {},
   "outputs": [
    {
     "data": {
      "text/plain": [
       "'import mysql.connector\\nmybd = mysql.connector.connect(\\n    host=\"localhost\",\\n    user=\"abc\",\\n    password=\"password\"\\n)\\n cursor = mybd.cursor()\\nmycursor.execute(\"create DATABASE test2\")\\n mybd.close()'"
      ]
     },
     "execution_count": 4,
     "metadata": {},
     "output_type": "execute_result"
    }
   ],
   "source": [
    "#Q.6\n",
    "'''import mysql.connector\n",
    "mybd = mysql.connector.connect(\n",
    "    host=\"localhost\",\n",
    "    user=\"abc\",\n",
    "    password=\"password\"\n",
    ")\n",
    " cursor = mybd.cursor()\n",
    "mycursor.execute(\"create DATABASE test2\")\n",
    " mybd.close()'''\n",
    "    \n",
    "# cursor() is a method that creates a cursor object which is used to exxecute\n",
    "# SQL statements. It is used to traverse through the records of a database\n",
    "\n",
    "# execute() is a method that is used to execute SQL statements. It takes an SQL \n",
    "# statements it"
   ]
  },
  {
   "cell_type": "code",
   "execution_count": null,
   "id": "04aedc20-795e-49c3-ade3-99b301123263",
   "metadata": {},
   "outputs": [],
   "source": [
    "#Q.7\n",
    "#1.FROM 2.WHERE 3.GROUP BY 4.HAVING 5.SELECT 6. D"
   ]
  }
 ],
 "metadata": {
  "kernelspec": {
   "display_name": "Python 3 (ipykernel)",
   "language": "python",
   "name": "python3"
  },
  "language_info": {
   "codemirror_mode": {
    "name": "ipython",
    "version": 3
   },
   "file_extension": ".py",
   "mimetype": "text/x-python",
   "name": "python",
   "nbconvert_exporter": "python",
   "pygments_lexer": "ipython3",
   "version": "3.10.8"
  }
 },
 "nbformat": 4,
 "nbformat_minor": 5
}
